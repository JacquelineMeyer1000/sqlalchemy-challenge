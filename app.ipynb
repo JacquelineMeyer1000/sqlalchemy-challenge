{
 "cells": [
  {
   "cell_type": "code",
   "execution_count": null,
   "metadata": {},
   "outputs": [],
   "source": [
    "#Import Flask and Dependencies\n",
    "import numpy as np\n",
    "import datetime as dt\n",
    "\n",
    "import sqlalchemy\n",
    "from sqlalchemy.ext.automap import automap_base\n",
    "from sqlalchemy.orm import Session\n",
    "from sqlalchemy import create_engine, func, inspect\n",
    "\n",
    "from flask import Flask, jsonify"
   ]
  },
  {
   "cell_type": "code",
   "execution_count": null,
   "metadata": {},
   "outputs": [],
   "source": [
    "# 1. Database Setup\n",
    "engine = create_engine(\"sqlite:///Resources/hawaii.sqlite\")\n",
    "\n",
    "# reflect an existing database into a new model\n",
    "Base = automap_base()\n",
    "\n",
    "# reflect the tables\n",
    "Base.prepare(engine, reflect=True)\n",
    "\n",
    "# Save reference to the table\n",
    "measurement = Base.classes.measurement\n",
    "station = Base.classes.station"
   ]
  },
  {
   "cell_type": "code",
   "execution_count": null,
   "metadata": {},
   "outputs": [],
   "source": [
    "# 2. Flask Setup- Create an app, being sure to pass __name__\n",
    "app = Flask(__name__)"
   ]
  },
  {
   "cell_type": "code",
   "execution_count": null,
   "metadata": {},
   "outputs": [],
   "source": [
    "# 3. Flask Routes- Define what to do when a user hits the index route\n",
    "#Home Page & List all routes that are available.\n",
    "@app.route(\"/\")\n",
    "def welcome():\n",
    "    \"\"\"List all available api routes.\"\"\"\n",
    "    return (\n",
    "        f\"Available Routes:<br/>\"\n",
    "        f\"/api/v1.0/precipitation<br/>\"\n",
    "        f\"/api/v1.0/stations<br/>\"\n",
    "        f\"/api/v1.0/tobs<br/>\"\n",
    "        f\"/api/v1.0/<start><br/>\"\n",
    "        f\"/api/v1.0/<start>/<end><br/>\"\n",
    "    )"
   ]
  },
  {
   "cell_type": "code",
   "execution_count": null,
   "metadata": {},
   "outputs": [],
   "source": [
    "#Convert the query results to a dictionary using date as the key and prcp as the value & \n",
    "\n",
    "@app.route(\"/api/v1.0/precipitation\")\n",
    "def precipitation():\n",
    "    \n",
    "    # Create our session (link) from Python to the DB\n",
    "    session = Session(engine)\n",
    "    \n",
    "    # Design a query to retrieve the last 12 months of precipitation data and plot the results\n",
    "    max_date = session.query(measurement.date).order_by(measurement.date.desc()).first()\n",
    "\n",
    "    # Get the first element of the tuple\n",
    "    max_date = max_date[0]\n",
    "\n",
    "    # Calculate the date 1 year ago from today\n",
    "    # The days are equal 366 so that the first day of the year is included\n",
    "    year_ago = dt.datetime.strptime(max_date, \"%Y-%m-%d\") - dt.timedelta(days=366)\n",
    "    \n",
    "    # Perform a query to retrieve the data and precipitation scores\n",
    "    results_precipitation = session.query(measurement.date, measurement.prcp).filter(measurement.date >= year_ago).all()\n",
    "    session.close()\n",
    "    \n",
    "    # Convert list of tuples into normal list\n",
    "    precipitation_dict = dict(results_precipitation)\n",
    "\n",
    "    return jsonify(precipitation_dict)"
   ]
  },
  {
   "cell_type": "code",
   "execution_count": null,
   "metadata": {},
   "outputs": [],
   "source": [
    "#Return a JSON list of stations from the dataset.\n",
    "\n",
    "@app.route(\"/api/v1.0/stations\")\n",
    "def stations(): \n",
    "\n",
    "    # Create our session (link) from Python to the DB\n",
    "    session = Session(engine)\n",
    "    \n",
    "    # Query stations\n",
    "    results_stations = session.query(measurement.station).group_by(measurement.station).all()\n",
    "    session.close()\n",
    "    \n",
    "    # Convert list of tuples into normal list\n",
    "    stations_list = list(np.ravel(results_stations))\n",
    "\n",
    "    return jsonify(stations_list)"
   ]
  },
  {
   "cell_type": "code",
   "execution_count": null,
   "metadata": {},
   "outputs": [],
   "source": [
    "# Query info on most active station for the last year & Return a JSON list of temp (TOBS).\n",
    "\n",
    "@app.route(\"/api/v1.0/tobs\")\n",
    "def tobs():\n",
    "    \n",
    "    # Create our session (link) from Python to the DB\n",
    "    session = Session(engine)\n",
    "    \n",
    "    # Query tobs\n",
    "    tobs = session.query(measurement.tobs).filter(measurement.station == 'USC00519281' ).\\\n",
    "            filter(measurement.date >= '2017,8,23').all()\n",
    "    \n",
    "    session.close()\n",
    "    \n",
    "    # Convert list of tuples into normal list\n",
    "    tobs_list = list(np.ravel(tobs))\n",
    "    \n",
    "    return jsonify (tobs_list)"
   ]
  },
  {
   "cell_type": "code",
   "execution_count": null,
   "metadata": {},
   "outputs": [],
   "source": [
    "# When given the start only, calculate TMIN, TAVG, and TMAX for all dates greater than and equal to the start date.\n",
    "\n",
    "app.route(\"/api/v1.0/<start>\")\n",
    "def start(start=None):\n",
    "    \n",
    "    # Create our session (link) from Python to the DB\n",
    "    session = Session(engine)\n",
    "    \n",
    "    # Query TMIN, TAVG, and TMAX for start\n",
    "    from_start = session.query(measurement.date, func.min(measurement.tobs), func.avg(measurement.tobs), \n",
    "                               func.max(measurement.tobs)).filter(measurement.date >= start).group_by(measurement.date).all()\n",
    "    session.close()\n",
    "    \n",
    "    # Convert list of tuples into normal list\n",
    "    from_start_list=list(from_start)\n",
    "    \n",
    "    return jsonify(from_start_list)"
   ]
  },
  {
   "cell_type": "code",
   "execution_count": null,
   "metadata": {},
   "outputs": [],
   "source": [
    "# When given the start AND end date, calculate the TMIN, TAVG, and TMAX.\n",
    "\n",
    "@app.route(\"/api/v1.0/<start>/<end>\")\n",
    "def start_end(start=None, end=None):\n",
    "    \n",
    "    # Create our session (link) from Python to the DB\n",
    "    session = Session(engine)\n",
    "    \n",
    "    # Query TMIN, TAVG, and TMAX for start & end\n",
    "    between_dates = session.query(measurement.date, func.min(measurement.tobs), func.avg(measurement.tobs),\n",
    "                    func.max(measurement.tobs)).filter(measurement.date >= start).filter(measurement.date <= end).group_by(measurement.date).all()\n",
    "    session.close()\n",
    "    \n",
    "    # Convert list of tuples into normal list   \n",
    "    between_dates_list=list(between_dates)\n",
    "    \n",
    "    return jsonify(between_dates_list)"
   ]
  },
  {
   "cell_type": "code",
   "execution_count": null,
   "metadata": {},
   "outputs": [],
   "source": [
    "if __name__ == \"__main__\":\n",
    "    app.run(debug=True, use_reloader=False)"
   ]
  },
  {
   "cell_type": "code",
   "execution_count": null,
   "metadata": {},
   "outputs": [],
   "source": []
  }
 ],
 "metadata": {
  "kernelspec": {
   "display_name": "Python 3",
   "language": "python",
   "name": "python3"
  },
  "language_info": {
   "codemirror_mode": {
    "name": "ipython",
    "version": 3
   },
   "file_extension": ".py",
   "mimetype": "text/x-python",
   "name": "python",
   "nbconvert_exporter": "python",
   "pygments_lexer": "ipython3",
   "version": "3.8.5"
  }
 },
 "nbformat": 4,
 "nbformat_minor": 4
}
